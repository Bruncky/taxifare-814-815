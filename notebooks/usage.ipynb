{
 "cells": [
  {
   "cell_type": "markdown",
   "metadata": {},
   "source": [
    "## Imports"
   ]
  },
  {
   "cell_type": "code",
   "execution_count": 7,
   "metadata": {},
   "outputs": [],
   "source": [
    "from taxifare.trainer import Trainer\n",
    "from taxifare.paramtrainer import ParamTrainer"
   ]
  },
  {
   "cell_type": "markdown",
   "metadata": {
    "tags": []
   },
   "source": [
    "## Autoreload"
   ]
  },
  {
   "cell_type": "code",
   "execution_count": 2,
   "metadata": {},
   "outputs": [],
   "source": [
    "%load_ext autoreload\n",
    "%autoreload 2"
   ]
  },
  {
   "cell_type": "markdown",
   "metadata": {},
   "source": [
    "# Trainer using our package"
   ]
  },
  {
   "cell_type": "code",
   "execution_count": 4,
   "metadata": {},
   "outputs": [
    {
     "data": {
      "text/plain": [
       "Pipeline(steps=[('features',\n",
       "                 ColumnTransformer(transformers=[('distance',\n",
       "                                                  Pipeline(steps=[('distancetransformer',\n",
       "                                                                   DistanceTransformer()),\n",
       "                                                                  ('standardscaler',\n",
       "                                                                   StandardScaler())]),\n",
       "                                                  ['pickup_latitude',\n",
       "                                                   'pickup_longitude',\n",
       "                                                   'dropoff_latitude',\n",
       "                                                   'dropoff_longitude'])])),\n",
       "                ('model', RandomForestRegressor(max_depth=1))])"
      ]
     },
     "execution_count": 4,
     "metadata": {},
     "output_type": "execute_result"
    }
   ],
   "source": [
    "trainer = Trainer()\n",
    "fitted_pipeline = trainer.train()\n",
    "\n",
    "fitted_pipeline"
   ]
  },
  {
   "cell_type": "code",
   "execution_count": 5,
   "metadata": {},
   "outputs": [
    {
     "name": "stdout",
     "output_type": "stream",
     "text": [
      "-rw-r--r--  1 bruncky  staff  47968 Feb 22 17:51 model.joblib\n"
     ]
    }
   ],
   "source": [
    "!ls -la model.joblib"
   ]
  },
  {
   "cell_type": "code",
   "execution_count": 6,
   "metadata": {},
   "outputs": [
    {
     "data": {
      "text/plain": [
       "{'memory': None,\n",
       " 'steps': [('features',\n",
       "   ColumnTransformer(transformers=[('distance',\n",
       "                                    Pipeline(steps=[('distancetransformer',\n",
       "                                                     DistanceTransformer()),\n",
       "                                                    ('standardscaler',\n",
       "                                                     StandardScaler())]),\n",
       "                                    ['pickup_latitude', 'pickup_longitude',\n",
       "                                     'dropoff_latitude', 'dropoff_longitude'])])),\n",
       "  ('model', RandomForestRegressor(max_depth=1))],\n",
       " 'verbose': False,\n",
       " 'features': ColumnTransformer(transformers=[('distance',\n",
       "                                  Pipeline(steps=[('distancetransformer',\n",
       "                                                   DistanceTransformer()),\n",
       "                                                  ('standardscaler',\n",
       "                                                   StandardScaler())]),\n",
       "                                  ['pickup_latitude', 'pickup_longitude',\n",
       "                                   'dropoff_latitude', 'dropoff_longitude'])]),\n",
       " 'model': RandomForestRegressor(max_depth=1),\n",
       " 'features__n_jobs': None,\n",
       " 'features__remainder': 'drop',\n",
       " 'features__sparse_threshold': 0.3,\n",
       " 'features__transformer_weights': None,\n",
       " 'features__transformers': [('distance',\n",
       "   Pipeline(steps=[('distancetransformer', DistanceTransformer()),\n",
       "                   ('standardscaler', StandardScaler())]),\n",
       "   ['pickup_latitude',\n",
       "    'pickup_longitude',\n",
       "    'dropoff_latitude',\n",
       "    'dropoff_longitude'])],\n",
       " 'features__verbose': False,\n",
       " 'features__verbose_feature_names_out': True,\n",
       " 'features__distance': Pipeline(steps=[('distancetransformer', DistanceTransformer()),\n",
       "                 ('standardscaler', StandardScaler())]),\n",
       " 'features__distance__memory': None,\n",
       " 'features__distance__steps': [('distancetransformer', DistanceTransformer()),\n",
       "  ('standardscaler', StandardScaler())],\n",
       " 'features__distance__verbose': False,\n",
       " 'features__distance__distancetransformer': DistanceTransformer(),\n",
       " 'features__distance__standardscaler': StandardScaler(),\n",
       " 'features__distance__distancetransformer__distance_type': 'euclidian',\n",
       " 'features__distance__standardscaler__copy': True,\n",
       " 'features__distance__standardscaler__with_mean': True,\n",
       " 'features__distance__standardscaler__with_std': True,\n",
       " 'model__bootstrap': True,\n",
       " 'model__ccp_alpha': 0.0,\n",
       " 'model__criterion': 'squared_error',\n",
       " 'model__max_depth': 1,\n",
       " 'model__max_features': 'auto',\n",
       " 'model__max_leaf_nodes': None,\n",
       " 'model__max_samples': None,\n",
       " 'model__min_impurity_decrease': 0.0,\n",
       " 'model__min_samples_leaf': 1,\n",
       " 'model__min_samples_split': 2,\n",
       " 'model__min_weight_fraction_leaf': 0.0,\n",
       " 'model__n_estimators': 100,\n",
       " 'model__n_jobs': None,\n",
       " 'model__oob_score': False,\n",
       " 'model__random_state': None,\n",
       " 'model__verbose': 0,\n",
       " 'model__warm_start': False}"
      ]
     },
     "execution_count": 6,
     "metadata": {},
     "output_type": "execute_result"
    }
   ],
   "source": [
    "fitted_pipeline.get_params()"
   ]
  },
  {
   "cell_type": "markdown",
   "metadata": {},
   "source": [
    "# Trainer with params and gridsearch"
   ]
  },
  {
   "cell_type": "code",
   "execution_count": 9,
   "metadata": {},
   "outputs": [
    {
     "data": {
      "text/plain": [
       "GridSearchCV(cv=5,\n",
       "             estimator={'linear_regression': {'hyper_params': {'features__distance__distancetransformer__distance_type': ['euclidian',\n",
       "                                                                                                                          'manhattan'],\n",
       "                                                               'features__distance__standardscaler__with_mean': [True,\n",
       "                                                                                                                 False],\n",
       "                                                               'model__normalize': [True,\n",
       "                                                                                    False]},\n",
       "                                              'line_count': 1000},\n",
       "                        'random_forest': {'hyper_params': {'features__distance__distancetransformer__distance_type': ['euclidian',\n",
       "                                                                                                                      'manhattan'],\n",
       "                                                           'features__distance__standardscaler__with_mean': [True,\n",
       "                                                                                                             False],\n",
       "                                                           'model__max_depth': [1,\n",
       "                                                                                2,\n",
       "                                                                                3]},\n",
       "                                          'line_count': 1000}},\n",
       "             param_grid={'features__distance__standardscaler__copy': [True],\n",
       "                         'model__min_samples_leaf': [3],\n",
       "                         'model__min_weight_fraction_leaf': [0.0, 0.1],\n",
       "                         'model__oob_score': [True]})"
      ]
     },
     "execution_count": 9,
     "metadata": {},
     "output_type": "execute_result"
    }
   ],
   "source": [
    "params = dict(\n",
    "    random_forest = dict(\n",
    "        line_count = 1_000,\n",
    "        hyper_params = dict(\n",
    "            features__distance__distancetransformer__distance_type = ['euclidian', 'manhattan'],\n",
    "            features__distance__standardscaler__with_mean = [True, False],\n",
    "            model__max_depth = [1, 2, 3]\n",
    "        )\n",
    "    ),\n",
    "    linear_regression = dict(\n",
    "        line_count = 1_000,\n",
    "        hyper_params = dict(\n",
    "            features__distance__distancetransformer__distance_type = ['euclidian', 'manhattan'],\n",
    "            features__distance__standardscaler__with_mean = [True, False],\n",
    "            model__normalize = [True, False]\n",
    "        )\n",
    "    )\n",
    ")\n",
    "\n",
    "\n",
    "param_trainer = ParamTrainer()\n",
    "models = param_trainer.train(params)\n",
    "\n",
    "models"
   ]
  },
  {
   "cell_type": "code",
   "execution_count": 10,
   "metadata": {},
   "outputs": [
    {
     "name": "stdout",
     "output_type": "stream",
     "text": [
      "-rw-r--r--  1 bruncky  staff  47968 Feb 22 17:51 model.joblib\n"
     ]
    }
   ],
   "source": [
    "! ls -la *.joblib"
   ]
  },
  {
   "cell_type": "code",
   "execution_count": 11,
   "metadata": {},
   "outputs": [
    {
     "ename": "TypeError",
     "evalue": "'GridSearchCV' object is not subscriptable",
     "output_type": "error",
     "traceback": [
      "\u001b[0;31m---------------------------------------------------------------------------\u001b[0m",
      "\u001b[0;31mTypeError\u001b[0m                                 Traceback (most recent call last)",
      "Input \u001b[0;32mIn [11]\u001b[0m, in \u001b[0;36m<module>\u001b[0;34m\u001b[0m\n\u001b[0;32m----> 1\u001b[0m \u001b[43mmodels\u001b[49m\u001b[43m[\u001b[49m\u001b[38;5;124;43m'\u001b[39;49m\u001b[38;5;124;43mrandom_forest\u001b[39;49m\u001b[38;5;124;43m'\u001b[39;49m\u001b[43m]\u001b[49m\u001b[38;5;241m.\u001b[39m\u001b[38;5;18m__dict__\u001b[39m\u001b[38;5;241m.\u001b[39mkeys()\n",
      "\u001b[0;31mTypeError\u001b[0m: 'GridSearchCV' object is not subscriptable"
     ]
    }
   ],
   "source": [
    "models['random_forest'].__dict__.keys()"
   ]
  },
  {
   "cell_type": "code",
   "execution_count": null,
   "metadata": {},
   "outputs": [],
   "source": [
    "models['random_forest'].best_score_"
   ]
  },
  {
   "cell_type": "code",
   "execution_count": null,
   "metadata": {},
   "outputs": [],
   "source": [
    "models['random_forest'].best_params_"
   ]
  },
  {
   "cell_type": "code",
   "execution_count": null,
   "metadata": {},
   "outputs": [],
   "source": [
    "models['random_forest'].best_estimator_"
   ]
  },
  {
   "cell_type": "code",
   "execution_count": null,
   "metadata": {},
   "outputs": [],
   "source": [
    "models['linear_regression'].best_score_"
   ]
  },
  {
   "cell_type": "code",
   "execution_count": null,
   "metadata": {},
   "outputs": [],
   "source": [
    "models['linear_regression'].best_params_"
   ]
  },
  {
   "cell_type": "code",
   "execution_count": null,
   "metadata": {},
   "outputs": [],
   "source": [
    "models['linear_regression'].best_estimator_"
   ]
  }
 ],
 "metadata": {
  "challengify": {
   "keep_output": true
  },
  "kernelspec": {
   "display_name": "Python 3 (ipykernel)",
   "language": "python",
   "name": "python3"
  },
  "language_info": {
   "codemirror_mode": {
    "name": "ipython",
    "version": 3
   },
   "file_extension": ".py",
   "mimetype": "text/x-python",
   "name": "python",
   "nbconvert_exporter": "python",
   "pygments_lexer": "ipython3",
   "version": "3.8.12"
  },
  "toc-autonumbering": true
 },
 "nbformat": 4,
 "nbformat_minor": 4
}
